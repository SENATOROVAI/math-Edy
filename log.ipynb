{
 "cells": [
  {
   "cell_type": "markdown",
   "source": [
    "03.06.2024\n",
    "Множества, их свойства, операции над ними.\n",
    "Обозначения, знаки и кванторы в математике.\n",
    "Основные законы арифметики и алгебры.\n"
   ],
   "metadata": {
    "collapsed": false
   },
   "id": "f682c369db53ae7b"
  }
 ],
 "metadata": {
  "kernelspec": {
   "display_name": "Python 3",
   "language": "python",
   "name": "python3"
  },
  "language_info": {
   "codemirror_mode": {
    "name": "ipython",
    "version": 2
   },
   "file_extension": ".py",
   "mimetype": "text/x-python",
   "name": "python",
   "nbconvert_exporter": "python",
   "pygments_lexer": "ipython2",
   "version": "2.7.6"
  }
 },
 "nbformat": 4,
 "nbformat_minor": 5
}
